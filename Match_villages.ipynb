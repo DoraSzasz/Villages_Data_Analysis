{
 "cells": [
  {
   "cell_type": "code",
   "execution_count": 1,
   "metadata": {
    "collapsed": true
   },
   "outputs": [],
   "source": [
    "import pandas as pd"
   ]
  },
  {
   "cell_type": "code",
   "execution_count": 2,
   "metadata": {
    "collapsed": false
   },
   "outputs": [
    {
     "name": "stdout",
     "output_type": "stream",
     "text": [
      "Match_villages.ipynb\r\n",
      "Output_test.xlsx\r\n",
      "short_DISE_Basic_Data_21-02-2017 12-05-03.xlsx\r\n",
      "test_village.xlsx\r\n"
     ]
    }
   ],
   "source": [
    "!ls"
   ]
  },
  {
   "cell_type": "code",
   "execution_count": 3,
   "metadata": {
    "collapsed": true
   },
   "outputs": [],
   "source": [
    "data_filename_all = 'short_DISE_Basic_Data_21-02-2017 12-05-03.xlsx'"
   ]
  },
  {
   "cell_type": "code",
   "execution_count": 4,
   "metadata": {
    "collapsed": false
   },
   "outputs": [],
   "source": [
    "data_all = pd.read_excel(data_filename_all)"
   ]
  },
  {
   "cell_type": "code",
   "execution_count": 5,
   "metadata": {
    "collapsed": false
   },
   "outputs": [
    {
     "data": {
      "text/html": [
       "<div>\n",
       "<table border=\"1\" class=\"dataframe\">\n",
       "  <thead>\n",
       "    <tr style=\"text-align: right;\">\n",
       "      <th></th>\n",
       "      <th>DISTNAME</th>\n",
       "      <th>SCHOOL_CODE</th>\n",
       "      <th>AC_YEAR</th>\n",
       "      <th>SCHOOL_NAME</th>\n",
       "      <th>BLOCK_NAME</th>\n",
       "      <th>CLUSTER_NAME</th>\n",
       "      <th>VILLAGE_NAME</th>\n",
       "      <th>PINCODE</th>\n",
       "    </tr>\n",
       "  </thead>\n",
       "  <tbody>\n",
       "    <tr>\n",
       "      <th>0</th>\n",
       "      <td>BANKA</td>\n",
       "      <td>10232519807</td>\n",
       "      <td>2015-16</td>\n",
       "      <td>N.P.S. KARJANA</td>\n",
       "      <td>BANKA</td>\n",
       "      <td>U.M.S. CHATARPAL</td>\n",
       "      <td>ASRAMHA</td>\n",
       "      <td>813102</td>\n",
       "    </tr>\n",
       "    <tr>\n",
       "      <th>1</th>\n",
       "      <td>AURANGABAD (BIHAR)</td>\n",
       "      <td>10340917201</td>\n",
       "      <td>2015-16</td>\n",
       "      <td>R.P.S. EKAHARA</td>\n",
       "      <td>NABINAGAR</td>\n",
       "      <td>MIDDLE SCHOOL BAREM</td>\n",
       "      <td>EKAHARA</td>\n",
       "      <td>824303</td>\n",
       "    </tr>\n",
       "    <tr>\n",
       "      <th>2</th>\n",
       "      <td>BEGUSARAI</td>\n",
       "      <td>10200201501</td>\n",
       "      <td>2015-16</td>\n",
       "      <td>UMS JEETWAJITPUR</td>\n",
       "      <td>BACHHWARA</td>\n",
       "      <td>GMS FATEHA</td>\n",
       "      <td>JEETWAJITPUR</td>\n",
       "      <td>851111</td>\n",
       "    </tr>\n",
       "    <tr>\n",
       "      <th>3</th>\n",
       "      <td>KATIHAR</td>\n",
       "      <td>10100201701</td>\n",
       "      <td>2015-16</td>\n",
       "      <td>UMS GORPHAR</td>\n",
       "      <td>DANDKHORA</td>\n",
       "      <td>MS DUMARIA</td>\n",
       "      <td>GORFER</td>\n",
       "      <td>855114</td>\n",
       "    </tr>\n",
       "    <tr>\n",
       "      <th>4</th>\n",
       "      <td>DARBHANGA</td>\n",
       "      <td>10130710601</td>\n",
       "      <td>2015-16</td>\n",
       "      <td>MS RANIPUR</td>\n",
       "      <td>DARBHANGA-RURAL</td>\n",
       "      <td>MS BUCHCHA</td>\n",
       "      <td>RANIPUR</td>\n",
       "      <td>846005</td>\n",
       "    </tr>\n",
       "    <tr>\n",
       "      <th>5</th>\n",
       "      <td>PURBA CHAMPARAN</td>\n",
       "      <td>10020207202</td>\n",
       "      <td>2015-16</td>\n",
       "      <td>BAL SHIKSHA NIKETAN</td>\n",
       "      <td>ARERAJ</td>\n",
       "      <td>GMS CHATIA</td>\n",
       "      <td>ARERAJ NA</td>\n",
       "      <td>845411</td>\n",
       "    </tr>\n",
       "    <tr>\n",
       "      <th>6</th>\n",
       "      <td>BHOJPUR</td>\n",
       "      <td>10290306203</td>\n",
       "      <td>2015-16</td>\n",
       "      <td>JEMS D.C.C. SCHOOL</td>\n",
       "      <td>BIHIYA</td>\n",
       "      <td>M.S. MAHUAN</td>\n",
       "      <td>CHAKAWATH</td>\n",
       "      <td>822152</td>\n",
       "    </tr>\n",
       "    <tr>\n",
       "      <th>7</th>\n",
       "      <td>BUXAR</td>\n",
       "      <td>10301500603</td>\n",
       "      <td>2015-16</td>\n",
       "      <td>HIGH SCHOOL ATAON</td>\n",
       "      <td>DUMRAON</td>\n",
       "      <td>M.S. ATAON, DUMRAON</td>\n",
       "      <td>ATAOA</td>\n",
       "      <td>802119</td>\n",
       "    </tr>\n",
       "    <tr>\n",
       "      <th>8</th>\n",
       "      <td>JEHANABAD</td>\n",
       "      <td>10330303702</td>\n",
       "      <td>2015-16</td>\n",
       "      <td>U.M.S.RUSTAMPUR</td>\n",
       "      <td>HULASGANJ</td>\n",
       "      <td>M.S.HULASGANJ</td>\n",
       "      <td>RUSTAMPUR</td>\n",
       "      <td>801303</td>\n",
       "    </tr>\n",
       "    <tr>\n",
       "      <th>9</th>\n",
       "      <td>JAMUI</td>\n",
       "      <td>10371505001</td>\n",
       "      <td>2015-16</td>\n",
       "      <td>U M S NAUWADIH</td>\n",
       "      <td>CHAKAI</td>\n",
       "      <td>M.S.KARHI</td>\n",
       "      <td>NAUWADIH</td>\n",
       "      <td>811303</td>\n",
       "    </tr>\n",
       "    <tr>\n",
       "      <th>10</th>\n",
       "      <td>KAIMUR (BHABUA)</td>\n",
       "      <td>10310603901</td>\n",
       "      <td>2015-16</td>\n",
       "      <td>U.M.S LEDRI</td>\n",
       "      <td>CHAND</td>\n",
       "      <td>M.S. GOHUA</td>\n",
       "      <td>LEDRI</td>\n",
       "      <td>821106</td>\n",
       "    </tr>\n",
       "    <tr>\n",
       "      <th>11</th>\n",
       "      <td>KATIHAR</td>\n",
       "      <td>10101218401</td>\n",
       "      <td>2015-16</td>\n",
       "      <td>MDR GHARIB NAWAZ PAIZEAAM PACHKOHNIA</td>\n",
       "      <td>AZAMNAGAR</td>\n",
       "      <td>UMS BAULA NIMOUL</td>\n",
       "      <td>PACHKONIYA</td>\n",
       "      <td>855113</td>\n",
       "    </tr>\n",
       "    <tr>\n",
       "      <th>12</th>\n",
       "      <td>SITAMARHI</td>\n",
       "      <td>10041203604</td>\n",
       "      <td>2015-16</td>\n",
       "      <td>P.S. LAPTAHA</td>\n",
       "      <td>PARIHAR</td>\n",
       "      <td>M.S. NARANGA</td>\n",
       "      <td>MAHUWAIN</td>\n",
       "      <td>843324</td>\n",
       "    </tr>\n",
       "    <tr>\n",
       "      <th>13</th>\n",
       "      <td>MADHUBANI</td>\n",
       "      <td>10050800506</td>\n",
       "      <td>2015-16</td>\n",
       "      <td>N.P.S. DEWDHA GOBRAHI TOL</td>\n",
       "      <td>JAYNAGAR</td>\n",
       "      <td>M.S.GADHA</td>\n",
       "      <td>DEVDHA</td>\n",
       "      <td>847226</td>\n",
       "    </tr>\n",
       "    <tr>\n",
       "      <th>14</th>\n",
       "      <td>LAKHISARAI</td>\n",
       "      <td>10252401801</td>\n",
       "      <td>2015-16</td>\n",
       "      <td>P.S. KANHARPUR</td>\n",
       "      <td>PIPARIYA</td>\n",
       "      <td>U.M.S. PIPARIYA DIYARA</td>\n",
       "      <td>KANHARPUR</td>\n",
       "      <td>811302</td>\n",
       "    </tr>\n",
       "  </tbody>\n",
       "</table>\n",
       "</div>"
      ],
      "text/plain": [
       "              DISTNAME  SCHOOL_CODE  AC_YEAR  \\\n",
       "0                BANKA  10232519807  2015-16   \n",
       "1   AURANGABAD (BIHAR)  10340917201  2015-16   \n",
       "2            BEGUSARAI  10200201501  2015-16   \n",
       "3              KATIHAR  10100201701  2015-16   \n",
       "4            DARBHANGA  10130710601  2015-16   \n",
       "5      PURBA CHAMPARAN  10020207202  2015-16   \n",
       "6              BHOJPUR  10290306203  2015-16   \n",
       "7                BUXAR  10301500603  2015-16   \n",
       "8            JEHANABAD  10330303702  2015-16   \n",
       "9                JAMUI  10371505001  2015-16   \n",
       "10     KAIMUR (BHABUA)  10310603901  2015-16   \n",
       "11             KATIHAR  10101218401  2015-16   \n",
       "12           SITAMARHI  10041203604  2015-16   \n",
       "13           MADHUBANI  10050800506  2015-16   \n",
       "14          LAKHISARAI  10252401801  2015-16   \n",
       "\n",
       "                             SCHOOL_NAME       BLOCK_NAME  \\\n",
       "0                         N.P.S. KARJANA            BANKA   \n",
       "1                         R.P.S. EKAHARA       NABINAGAR    \n",
       "2                       UMS JEETWAJITPUR        BACHHWARA   \n",
       "3                            UMS GORPHAR        DANDKHORA   \n",
       "4                             MS RANIPUR  DARBHANGA-RURAL   \n",
       "5                    BAL SHIKSHA NIKETAN           ARERAJ   \n",
       "6                     JEMS D.C.C. SCHOOL           BIHIYA   \n",
       "7                      HIGH SCHOOL ATAON          DUMRAON   \n",
       "8                        U.M.S.RUSTAMPUR        HULASGANJ   \n",
       "9                         U M S NAUWADIH           CHAKAI   \n",
       "10                           U.M.S LEDRI            CHAND   \n",
       "11  MDR GHARIB NAWAZ PAIZEAAM PACHKOHNIA        AZAMNAGAR   \n",
       "12                          P.S. LAPTAHA          PARIHAR   \n",
       "13             N.P.S. DEWDHA GOBRAHI TOL         JAYNAGAR   \n",
       "14                        P.S. KANHARPUR         PIPARIYA   \n",
       "\n",
       "              CLUSTER_NAME  VILLAGE_NAME  PINCODE  \n",
       "0         U.M.S. CHATARPAL       ASRAMHA   813102  \n",
       "1      MIDDLE SCHOOL BAREM       EKAHARA   824303  \n",
       "2               GMS FATEHA  JEETWAJITPUR   851111  \n",
       "3               MS DUMARIA        GORFER   855114  \n",
       "4               MS BUCHCHA       RANIPUR   846005  \n",
       "5               GMS CHATIA     ARERAJ NA   845411  \n",
       "6              M.S. MAHUAN     CHAKAWATH   822152  \n",
       "7      M.S. ATAON, DUMRAON         ATAOA   802119  \n",
       "8            M.S.HULASGANJ     RUSTAMPUR   801303  \n",
       "9                M.S.KARHI      NAUWADIH   811303  \n",
       "10              M.S. GOHUA         LEDRI   821106  \n",
       "11        UMS BAULA NIMOUL    PACHKONIYA   855113  \n",
       "12            M.S. NARANGA      MAHUWAIN   843324  \n",
       "13               M.S.GADHA        DEVDHA   847226  \n",
       "14  U.M.S. PIPARIYA DIYARA     KANHARPUR   811302  "
      ]
     },
     "execution_count": 5,
     "metadata": {},
     "output_type": "execute_result"
    }
   ],
   "source": [
    "data_all.head(15)"
   ]
  },
  {
   "cell_type": "code",
   "execution_count": 6,
   "metadata": {
    "collapsed": true
   },
   "outputs": [],
   "source": [
    "data_file_to_add = 'test_village.xlsx'"
   ]
  },
  {
   "cell_type": "code",
   "execution_count": 7,
   "metadata": {
    "collapsed": true
   },
   "outputs": [],
   "source": [
    "data_to_add = pd.read_excel(data_file_to_add)"
   ]
  },
  {
   "cell_type": "code",
   "execution_count": 8,
   "metadata": {
    "collapsed": false
   },
   "outputs": [
    {
     "data": {
      "text/html": [
       "<div>\n",
       "<table border=\"1\" class=\"dataframe\">\n",
       "  <thead>\n",
       "    <tr style=\"text-align: right;\">\n",
       "      <th></th>\n",
       "      <th>ST_CODE</th>\n",
       "      <th>DIST_CODE</th>\n",
       "      <th>THSIL_CODE</th>\n",
       "      <th>BLOCK_CODE</th>\n",
       "      <th>V_CT_CODE</th>\n",
       "      <th>VILL_NAME</th>\n",
       "      <th>AREA</th>\n",
       "      <th>T_HH</th>\n",
       "      <th>T_P</th>\n",
       "      <th>T_M</th>\n",
       "      <th>...</th>\n",
       "      <th>TW_W_EL</th>\n",
       "      <th>TANK_IRR</th>\n",
       "      <th>RIVER_IRR</th>\n",
       "      <th>LAKE_IRR</th>\n",
       "      <th>W_FALL</th>\n",
       "      <th>OTH_IRR</th>\n",
       "      <th>TOT_IRR</th>\n",
       "      <th>UN_IRR</th>\n",
       "      <th>CULT_WASTE</th>\n",
       "      <th>AREA_NA_CU</th>\n",
       "    </tr>\n",
       "  </thead>\n",
       "  <tbody>\n",
       "    <tr>\n",
       "      <th>0</th>\n",
       "      <td>10</td>\n",
       "      <td>22</td>\n",
       "      <td>8</td>\n",
       "      <td>8</td>\n",
       "      <td>2341000</td>\n",
       "      <td>Ranipur</td>\n",
       "      <td>112</td>\n",
       "      <td>244</td>\n",
       "      <td>1440</td>\n",
       "      <td>783</td>\n",
       "      <td>...</td>\n",
       "      <td>0</td>\n",
       "      <td>0</td>\n",
       "      <td>0</td>\n",
       "      <td>0</td>\n",
       "      <td>0</td>\n",
       "      <td>0.00</td>\n",
       "      <td>14.74</td>\n",
       "      <td>67.27</td>\n",
       "      <td>9.97</td>\n",
       "      <td>19.71</td>\n",
       "    </tr>\n",
       "    <tr>\n",
       "      <th>1</th>\n",
       "      <td>10</td>\n",
       "      <td>29</td>\n",
       "      <td>7</td>\n",
       "      <td>7</td>\n",
       "      <td>3126400</td>\n",
       "      <td>Rustampur</td>\n",
       "      <td>48</td>\n",
       "      <td>0</td>\n",
       "      <td>0</td>\n",
       "      <td>0</td>\n",
       "      <td>...</td>\n",
       "      <td>0</td>\n",
       "      <td>0</td>\n",
       "      <td>0</td>\n",
       "      <td>0</td>\n",
       "      <td>0</td>\n",
       "      <td>0.00</td>\n",
       "      <td>16.53</td>\n",
       "      <td>27.03</td>\n",
       "      <td>0.00</td>\n",
       "      <td>4.19</td>\n",
       "    </tr>\n",
       "    <tr>\n",
       "      <th>2</th>\n",
       "      <td>10</td>\n",
       "      <td>37</td>\n",
       "      <td>2</td>\n",
       "      <td>2</td>\n",
       "      <td>4368000</td>\n",
       "      <td>Nauwadih</td>\n",
       "      <td>37</td>\n",
       "      <td>86</td>\n",
       "      <td>614</td>\n",
       "      <td>342</td>\n",
       "      <td>...</td>\n",
       "      <td>0</td>\n",
       "      <td>0</td>\n",
       "      <td>0</td>\n",
       "      <td>0</td>\n",
       "      <td>0</td>\n",
       "      <td>0.83</td>\n",
       "      <td>0.83</td>\n",
       "      <td>24.16</td>\n",
       "      <td>0.00</td>\n",
       "      <td>12.24</td>\n",
       "    </tr>\n",
       "  </tbody>\n",
       "</table>\n",
       "<p>3 rows × 141 columns</p>\n",
       "</div>"
      ],
      "text/plain": [
       "   ST_CODE  DIST_CODE  THSIL_CODE  BLOCK_CODE  V_CT_CODE  VILL_NAME  AREA  \\\n",
       "0       10         22           8           8    2341000    Ranipur   112   \n",
       "1       10         29           7           7    3126400  Rustampur    48   \n",
       "2       10         37           2           2    4368000   Nauwadih    37   \n",
       "\n",
       "   T_HH   T_P  T_M     ...      TW_W_EL  TANK_IRR  RIVER_IRR  LAKE_IRR  \\\n",
       "0   244  1440  783     ...            0         0          0         0   \n",
       "1     0     0    0     ...            0         0          0         0   \n",
       "2    86   614  342     ...            0         0          0         0   \n",
       "\n",
       "   W_FALL  OTH_IRR  TOT_IRR  UN_IRR  CULT_WASTE  AREA_NA_CU  \n",
       "0       0     0.00    14.74   67.27        9.97       19.71  \n",
       "1       0     0.00    16.53   27.03        0.00        4.19  \n",
       "2       0     0.83     0.83   24.16        0.00       12.24  \n",
       "\n",
       "[3 rows x 141 columns]"
      ]
     },
     "execution_count": 8,
     "metadata": {},
     "output_type": "execute_result"
    }
   ],
   "source": [
    "data_to_add.head(3)"
   ]
  },
  {
   "cell_type": "code",
   "execution_count": 9,
   "metadata": {
    "collapsed": true
   },
   "outputs": [],
   "source": [
    "data_to_add_clear = data_to_add[['VILL_NAME', 'T_P']]"
   ]
  },
  {
   "cell_type": "code",
   "execution_count": 10,
   "metadata": {
    "collapsed": false
   },
   "outputs": [
    {
     "data": {
      "text/html": [
       "<div>\n",
       "<table border=\"1\" class=\"dataframe\">\n",
       "  <thead>\n",
       "    <tr style=\"text-align: right;\">\n",
       "      <th></th>\n",
       "      <th>VILL_NAME</th>\n",
       "      <th>T_P</th>\n",
       "    </tr>\n",
       "  </thead>\n",
       "  <tbody>\n",
       "    <tr>\n",
       "      <th>0</th>\n",
       "      <td>Ranipur</td>\n",
       "      <td>1440</td>\n",
       "    </tr>\n",
       "    <tr>\n",
       "      <th>1</th>\n",
       "      <td>Rustampur</td>\n",
       "      <td>0</td>\n",
       "    </tr>\n",
       "    <tr>\n",
       "      <th>2</th>\n",
       "      <td>Nauwadih</td>\n",
       "      <td>614</td>\n",
       "    </tr>\n",
       "  </tbody>\n",
       "</table>\n",
       "</div>"
      ],
      "text/plain": [
       "   VILL_NAME   T_P\n",
       "0    Ranipur  1440\n",
       "1  Rustampur     0\n",
       "2   Nauwadih   614"
      ]
     },
     "execution_count": 10,
     "metadata": {},
     "output_type": "execute_result"
    }
   ],
   "source": [
    "data_to_add_clear.head(3)"
   ]
  },
  {
   "cell_type": "code",
   "execution_count": 11,
   "metadata": {
    "collapsed": true
   },
   "outputs": [],
   "source": [
    "df_to_add = pd.DataFrame(data_to_add_clear)"
   ]
  },
  {
   "cell_type": "code",
   "execution_count": 12,
   "metadata": {
    "collapsed": true
   },
   "outputs": [],
   "source": [
    "df_to_add.columns = ['VILLAGE_NAME', 'TOTAL_POPULATION']"
   ]
  },
  {
   "cell_type": "code",
   "execution_count": 13,
   "metadata": {
    "collapsed": false
   },
   "outputs": [
    {
     "name": "stdout",
     "output_type": "stream",
     "text": [
      "  VILLAGE_NAME  TOTAL_POPULATION\n",
      "0      Ranipur              1440\n",
      "1    Rustampur                 0\n",
      "2     Nauwadih               614\n"
     ]
    }
   ],
   "source": [
    "print (df_to_add)"
   ]
  },
  {
   "cell_type": "code",
   "execution_count": 14,
   "metadata": {
    "collapsed": true
   },
   "outputs": [],
   "source": [
    "df_all = pd.DataFrame(data_all)"
   ]
  },
  {
   "cell_type": "code",
   "execution_count": 15,
   "metadata": {
    "collapsed": false
   },
   "outputs": [],
   "source": [
    "df_all_sorted = df_all.sort_values(['VILLAGE_NAME'], ascending=True)"
   ]
  },
  {
   "cell_type": "code",
   "execution_count": 16,
   "metadata": {
    "collapsed": false
   },
   "outputs": [
    {
     "name": "stdout",
     "output_type": "stream",
     "text": [
      "              DISTNAME  SCHOOL_CODE  AC_YEAR  \\\n",
      "5      PURBA CHAMPARAN  10020207202  2015-16   \n",
      "0                BANKA  10232519807  2015-16   \n",
      "7                BUXAR  10301500603  2015-16   \n",
      "6              BHOJPUR  10290306203  2015-16   \n",
      "13           MADHUBANI  10050800506  2015-16   \n",
      "1   AURANGABAD (BIHAR)  10340917201  2015-16   \n",
      "3              KATIHAR  10100201701  2015-16   \n",
      "2            BEGUSARAI  10200201501  2015-16   \n",
      "14          LAKHISARAI  10252401801  2015-16   \n",
      "10     KAIMUR (BHABUA)  10310603901  2015-16   \n",
      "12           SITAMARHI  10041203604  2015-16   \n",
      "9                JAMUI  10371505001  2015-16   \n",
      "11             KATIHAR  10101218401  2015-16   \n",
      "4            DARBHANGA  10130710601  2015-16   \n",
      "8            JEHANABAD  10330303702  2015-16   \n",
      "\n",
      "                             SCHOOL_NAME       BLOCK_NAME  \\\n",
      "5                    BAL SHIKSHA NIKETAN           ARERAJ   \n",
      "0                         N.P.S. KARJANA            BANKA   \n",
      "7                      HIGH SCHOOL ATAON          DUMRAON   \n",
      "6                     JEMS D.C.C. SCHOOL           BIHIYA   \n",
      "13             N.P.S. DEWDHA GOBRAHI TOL         JAYNAGAR   \n",
      "1                         R.P.S. EKAHARA       NABINAGAR    \n",
      "3                            UMS GORPHAR        DANDKHORA   \n",
      "2                       UMS JEETWAJITPUR        BACHHWARA   \n",
      "14                        P.S. KANHARPUR         PIPARIYA   \n",
      "10                           U.M.S LEDRI            CHAND   \n",
      "12                          P.S. LAPTAHA          PARIHAR   \n",
      "9                         U M S NAUWADIH           CHAKAI   \n",
      "11  MDR GHARIB NAWAZ PAIZEAAM PACHKOHNIA        AZAMNAGAR   \n",
      "4                             MS RANIPUR  DARBHANGA-RURAL   \n",
      "8                        U.M.S.RUSTAMPUR        HULASGANJ   \n",
      "\n",
      "              CLUSTER_NAME  VILLAGE_NAME  PINCODE  \n",
      "5               GMS CHATIA     ARERAJ NA   845411  \n",
      "0         U.M.S. CHATARPAL       ASRAMHA   813102  \n",
      "7      M.S. ATAON, DUMRAON         ATAOA   802119  \n",
      "6              M.S. MAHUAN     CHAKAWATH   822152  \n",
      "13               M.S.GADHA        DEVDHA   847226  \n",
      "1      MIDDLE SCHOOL BAREM       EKAHARA   824303  \n",
      "3               MS DUMARIA        GORFER   855114  \n",
      "2               GMS FATEHA  JEETWAJITPUR   851111  \n",
      "14  U.M.S. PIPARIYA DIYARA     KANHARPUR   811302  \n",
      "10              M.S. GOHUA         LEDRI   821106  \n",
      "12            M.S. NARANGA      MAHUWAIN   843324  \n",
      "9                M.S.KARHI      NAUWADIH   811303  \n",
      "11        UMS BAULA NIMOUL    PACHKONIYA   855113  \n",
      "4               MS BUCHCHA       RANIPUR   846005  \n",
      "8            M.S.HULASGANJ     RUSTAMPUR   801303  \n"
     ]
    }
   ],
   "source": [
    "print (df_all_sorted)"
   ]
  },
  {
   "cell_type": "code",
   "execution_count": 17,
   "metadata": {
    "collapsed": false
   },
   "outputs": [],
   "source": [
    "df_all_sorted['VILLAGE_NAME'] = df_all_sorted['VILLAGE_NAME'].str.upper()"
   ]
  },
  {
   "cell_type": "code",
   "execution_count": 18,
   "metadata": {
    "collapsed": false
   },
   "outputs": [
    {
     "name": "stdout",
     "output_type": "stream",
     "text": [
      "              DISTNAME  SCHOOL_CODE  AC_YEAR  \\\n",
      "5      PURBA CHAMPARAN  10020207202  2015-16   \n",
      "0                BANKA  10232519807  2015-16   \n",
      "7                BUXAR  10301500603  2015-16   \n",
      "6              BHOJPUR  10290306203  2015-16   \n",
      "13           MADHUBANI  10050800506  2015-16   \n",
      "1   AURANGABAD (BIHAR)  10340917201  2015-16   \n",
      "3              KATIHAR  10100201701  2015-16   \n",
      "2            BEGUSARAI  10200201501  2015-16   \n",
      "14          LAKHISARAI  10252401801  2015-16   \n",
      "10     KAIMUR (BHABUA)  10310603901  2015-16   \n",
      "12           SITAMARHI  10041203604  2015-16   \n",
      "9                JAMUI  10371505001  2015-16   \n",
      "11             KATIHAR  10101218401  2015-16   \n",
      "4            DARBHANGA  10130710601  2015-16   \n",
      "8            JEHANABAD  10330303702  2015-16   \n",
      "\n",
      "                             SCHOOL_NAME       BLOCK_NAME  \\\n",
      "5                    BAL SHIKSHA NIKETAN           ARERAJ   \n",
      "0                         N.P.S. KARJANA            BANKA   \n",
      "7                      HIGH SCHOOL ATAON          DUMRAON   \n",
      "6                     JEMS D.C.C. SCHOOL           BIHIYA   \n",
      "13             N.P.S. DEWDHA GOBRAHI TOL         JAYNAGAR   \n",
      "1                         R.P.S. EKAHARA       NABINAGAR    \n",
      "3                            UMS GORPHAR        DANDKHORA   \n",
      "2                       UMS JEETWAJITPUR        BACHHWARA   \n",
      "14                        P.S. KANHARPUR         PIPARIYA   \n",
      "10                           U.M.S LEDRI            CHAND   \n",
      "12                          P.S. LAPTAHA          PARIHAR   \n",
      "9                         U M S NAUWADIH           CHAKAI   \n",
      "11  MDR GHARIB NAWAZ PAIZEAAM PACHKOHNIA        AZAMNAGAR   \n",
      "4                             MS RANIPUR  DARBHANGA-RURAL   \n",
      "8                        U.M.S.RUSTAMPUR        HULASGANJ   \n",
      "\n",
      "              CLUSTER_NAME  VILLAGE_NAME  PINCODE  \n",
      "5               GMS CHATIA     ARERAJ NA   845411  \n",
      "0         U.M.S. CHATARPAL       ASRAMHA   813102  \n",
      "7      M.S. ATAON, DUMRAON         ATAOA   802119  \n",
      "6              M.S. MAHUAN     CHAKAWATH   822152  \n",
      "13               M.S.GADHA        DEVDHA   847226  \n",
      "1      MIDDLE SCHOOL BAREM       EKAHARA   824303  \n",
      "3               MS DUMARIA        GORFER   855114  \n",
      "2               GMS FATEHA  JEETWAJITPUR   851111  \n",
      "14  U.M.S. PIPARIYA DIYARA     KANHARPUR   811302  \n",
      "10              M.S. GOHUA         LEDRI   821106  \n",
      "12            M.S. NARANGA      MAHUWAIN   843324  \n",
      "9                M.S.KARHI      NAUWADIH   811303  \n",
      "11        UMS BAULA NIMOUL    PACHKONIYA   855113  \n",
      "4               MS BUCHCHA       RANIPUR   846005  \n",
      "8            M.S.HULASGANJ     RUSTAMPUR   801303  \n"
     ]
    }
   ],
   "source": [
    "print(df_all_sorted)"
   ]
  },
  {
   "cell_type": "code",
   "execution_count": 19,
   "metadata": {
    "collapsed": false
   },
   "outputs": [],
   "source": [
    "df_to_add['VILLAGE_NAME'] = df_to_add['VILLAGE_NAME'].str.upper()"
   ]
  },
  {
   "cell_type": "code",
   "execution_count": 20,
   "metadata": {
    "collapsed": false
   },
   "outputs": [
    {
     "name": "stdout",
     "output_type": "stream",
     "text": [
      "  VILLAGE_NAME  TOTAL_POPULATION\n",
      "0      RANIPUR              1440\n",
      "1    RUSTAMPUR                 0\n",
      "2     NAUWADIH               614\n"
     ]
    }
   ],
   "source": [
    "print(df_to_add)"
   ]
  },
  {
   "cell_type": "code",
   "execution_count": 22,
   "metadata": {
    "collapsed": false
   },
   "outputs": [],
   "source": [
    "df_merged=pd.merge(df_all_sorted, df_to_add, left_on='VILLAGE_NAME', right_on='VILLAGE_NAME', how='left')"
   ]
  },
  {
   "cell_type": "code",
   "execution_count": 23,
   "metadata": {
    "collapsed": false
   },
   "outputs": [
    {
     "name": "stdout",
     "output_type": "stream",
     "text": [
      "              DISTNAME  SCHOOL_CODE  AC_YEAR  \\\n",
      "0      PURBA CHAMPARAN  10020207202  2015-16   \n",
      "1                BANKA  10232519807  2015-16   \n",
      "2                BUXAR  10301500603  2015-16   \n",
      "3              BHOJPUR  10290306203  2015-16   \n",
      "4            MADHUBANI  10050800506  2015-16   \n",
      "5   AURANGABAD (BIHAR)  10340917201  2015-16   \n",
      "6              KATIHAR  10100201701  2015-16   \n",
      "7            BEGUSARAI  10200201501  2015-16   \n",
      "8           LAKHISARAI  10252401801  2015-16   \n",
      "9      KAIMUR (BHABUA)  10310603901  2015-16   \n",
      "10           SITAMARHI  10041203604  2015-16   \n",
      "11               JAMUI  10371505001  2015-16   \n",
      "12             KATIHAR  10101218401  2015-16   \n",
      "13           DARBHANGA  10130710601  2015-16   \n",
      "14           JEHANABAD  10330303702  2015-16   \n",
      "\n",
      "                             SCHOOL_NAME       BLOCK_NAME  \\\n",
      "0                    BAL SHIKSHA NIKETAN           ARERAJ   \n",
      "1                         N.P.S. KARJANA            BANKA   \n",
      "2                      HIGH SCHOOL ATAON          DUMRAON   \n",
      "3                     JEMS D.C.C. SCHOOL           BIHIYA   \n",
      "4              N.P.S. DEWDHA GOBRAHI TOL         JAYNAGAR   \n",
      "5                         R.P.S. EKAHARA       NABINAGAR    \n",
      "6                            UMS GORPHAR        DANDKHORA   \n",
      "7                       UMS JEETWAJITPUR        BACHHWARA   \n",
      "8                         P.S. KANHARPUR         PIPARIYA   \n",
      "9                            U.M.S LEDRI            CHAND   \n",
      "10                          P.S. LAPTAHA          PARIHAR   \n",
      "11                        U M S NAUWADIH           CHAKAI   \n",
      "12  MDR GHARIB NAWAZ PAIZEAAM PACHKOHNIA        AZAMNAGAR   \n",
      "13                            MS RANIPUR  DARBHANGA-RURAL   \n",
      "14                       U.M.S.RUSTAMPUR        HULASGANJ   \n",
      "\n",
      "              CLUSTER_NAME  VILLAGE_NAME  PINCODE  TOTAL_POPULATION  \n",
      "0               GMS CHATIA     ARERAJ NA   845411               NaN  \n",
      "1         U.M.S. CHATARPAL       ASRAMHA   813102               NaN  \n",
      "2      M.S. ATAON, DUMRAON         ATAOA   802119               NaN  \n",
      "3              M.S. MAHUAN     CHAKAWATH   822152               NaN  \n",
      "4                M.S.GADHA        DEVDHA   847226               NaN  \n",
      "5      MIDDLE SCHOOL BAREM       EKAHARA   824303               NaN  \n",
      "6               MS DUMARIA        GORFER   855114               NaN  \n",
      "7               GMS FATEHA  JEETWAJITPUR   851111               NaN  \n",
      "8   U.M.S. PIPARIYA DIYARA     KANHARPUR   811302               NaN  \n",
      "9               M.S. GOHUA         LEDRI   821106               NaN  \n",
      "10            M.S. NARANGA      MAHUWAIN   843324               NaN  \n",
      "11               M.S.KARHI      NAUWADIH   811303             614.0  \n",
      "12        UMS BAULA NIMOUL    PACHKONIYA   855113               NaN  \n",
      "13              MS BUCHCHA       RANIPUR   846005            1440.0  \n",
      "14           M.S.HULASGANJ     RUSTAMPUR   801303               0.0  \n"
     ]
    }
   ],
   "source": [
    "print (df_merged)"
   ]
  },
  {
   "cell_type": "code",
   "execution_count": 24,
   "metadata": {
    "collapsed": false
   },
   "outputs": [],
   "source": [
    "writer = pd.ExcelWriter('Output_test.xlsx')\n",
    "df_merged.to_excel(writer,'Sheet1')\n",
    "writer.save()"
   ]
  }
 ],
 "metadata": {
  "anaconda-cloud": {},
  "kernelspec": {
   "display_name": "Python [default]",
   "language": "python",
   "name": "python3"
  },
  "language_info": {
   "codemirror_mode": {
    "name": "ipython",
    "version": 3
   },
   "file_extension": ".py",
   "mimetype": "text/x-python",
   "name": "python",
   "nbconvert_exporter": "python",
   "pygments_lexer": "ipython3",
   "version": "3.5.2"
  }
 },
 "nbformat": 4,
 "nbformat_minor": 1
}
